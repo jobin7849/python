{
 "cells": [
  {
   "cell_type": "code",
   "execution_count": 2,
   "id": "42e29732-f0ad-455f-bc2b-b92c99c716cf",
   "metadata": {},
   "outputs": [
    {
     "name": "stdout",
     "output_type": "stream",
     "text": [
      "Even number from 1-25 is:  [2, 4, 6, 8, 10, 12, 14, 16, 18, 20, 22, 24]\n",
      "Sum of even numbers :  156\n"
     ]
    }
   ],
   "source": [
    "#Write a Python program to print all even numbers from 1 to 25 and calculate sum . (using the range() function directly without a loop or conditions)\n",
    "r=range(2,25,2)\n",
    "print(\"Even number from 1-25 is: \",list(r))\n",
    "print(\"Sum of even numbers : \",sum(r))"
   ]
  },
  {
   "cell_type": "code",
   "execution_count": 6,
   "id": "8a2ba7e2-aa80-4c23-935c-1da2234ea689",
   "metadata": {},
   "outputs": [
    {
     "name": "stdin",
     "output_type": "stream",
     "text": [
      "Enter the range :  10\n"
     ]
    },
    {
     "name": "stdout",
     "output_type": "stream",
     "text": [
      "the reverse order is  [10, 9, 8, 7, 6, 5, 4, 3, 2, 1]\n",
      "sum of reverse order is  55\n"
     ]
    }
   ],
   "source": [
    "#Write a Python program to print all in reverse order and calculate their sum.\n",
    "rev=int(input(\"Enter the range : \"))\n",
    "print(\"the reverse order is \",list(range(rev,0,-1)))\n",
    "print(\"sum of reverse order is \",sum(range (rev,0,-1)))"
   ]
  },
  {
   "cell_type": "code",
   "execution_count": null,
   "id": "e7406221-6e22-4e6e-8e54-a22fd1532611",
   "metadata": {},
   "outputs": [],
   "source": []
  },
  {
   "cell_type": "code",
   "execution_count": null,
   "id": "8ce08a71-63e6-4e66-8be8-fcabc4240d06",
   "metadata": {},
   "outputs": [],
   "source": []
  }
 ],
 "metadata": {
  "kernelspec": {
   "display_name": "Python [conda env:base] *",
   "language": "python",
   "name": "conda-base-py"
  },
  "language_info": {
   "codemirror_mode": {
    "name": "ipython",
    "version": 3
   },
   "file_extension": ".py",
   "mimetype": "text/x-python",
   "name": "python",
   "nbconvert_exporter": "python",
   "pygments_lexer": "ipython3",
   "version": "3.11.9"
  }
 },
 "nbformat": 4,
 "nbformat_minor": 5
}
