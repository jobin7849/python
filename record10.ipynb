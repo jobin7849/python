{
 "cells": [
  {
   "cell_type": "code",
   "execution_count": 1,
   "id": "57a9850f-a630-4988-b8c4-0a378d64a501",
   "metadata": {},
   "outputs": [
    {
     "name": "stdin",
     "output_type": "stream",
     "text": [
      "Enter elements of first list separated by space:  1 2 5 3 6\n",
      "Enter elements of second list separated by space:  2 5 8 7 6 2\n"
     ]
    },
    {
     "name": "stdout",
     "output_type": "stream",
     "text": [
      "Lists are of different lengths.\n",
      "Lists have different sums.\n",
      "Common values found: {2, 5, 6}\n"
     ]
    }
   ],
   "source": [
    "#1. Enter 2 lists of integers. Check \n",
    "   #(a) Whether list are of same length \n",
    "   #(b) whether list sums to same value \n",
    "   #(c) whether any value occur in both.\n",
    "   # Enter two lists of integers\n",
    "\n",
    "list1 = list(map(int, input(\"Enter elements of first list separated by space: \").split()))\n",
    "list2 = list(map(int, input(\"Enter elements of second list separated by space: \").split()))\n",
    "if len(list1) == len(list2):\n",
    "    print(\"Both lists are of the same length.\")\n",
    "else:\n",
    "    print(\"Lists are of different lengths.\")\n",
    "\n",
    "if sum(list1) == sum(list2):\n",
    "    print(\"Both lists have the same sum.\")\n",
    "else:\n",
    "    print(\"Lists have different sums.\")\n",
    "\n",
    "common = set(list1) .intersection( set(list2))\n",
    "if common:\n",
    "    print(\"Common values found:\", common)\n",
    "else:\n",
    "    print(\"No common values between the lists.\")"
   ]
  },
  {
   "cell_type": "code",
   "execution_count": 11,
   "id": "980deadb-f211-4bcf-90fc-5567c045513d",
   "metadata": {},
   "outputs": [
    {
     "name": "stdin",
     "output_type": "stream",
     "text": [
      "Enter a string:  play\n"
     ]
    },
    {
     "name": "stdout",
     "output_type": "stream",
     "text": [
      "Result: playing\n"
     ]
    }
   ],
   "source": [
    "#2. Add ‘ing’ at the end of a given string. If it already ends with ‘ing’, then add ‘ly’\n",
    "s = input(\"Enter a string: \")\n",
    "if s.endswith(\"ing\"):\n",
    " s = s+\"ly\"\n",
    "else:\n",
    " s=s+\"ing\" \n",
    "print(\"Result:\", s)"
   ]
  },
  {
   "cell_type": "code",
   "execution_count": null,
   "id": "8fb44d8a-4c49-49bd-b4d4-f4509fe16743",
   "metadata": {},
   "outputs": [],
   "source": []
  }
 ],
 "metadata": {
  "kernelspec": {
   "display_name": "Python [conda env:base] *",
   "language": "python",
   "name": "conda-base-py"
  },
  "language_info": {
   "codemirror_mode": {
    "name": "ipython",
    "version": 3
   },
   "file_extension": ".py",
   "mimetype": "text/x-python",
   "name": "python",
   "nbconvert_exporter": "python",
   "pygments_lexer": "ipython3",
   "version": "3.11.9"
  }
 },
 "nbformat": 4,
 "nbformat_minor": 5
}
