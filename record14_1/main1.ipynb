{
 "cells": [
  {
   "cell_type": "code",
   "execution_count": 1,
   "id": "c6c13a0d-0074-4be3-aafa-c6d9f5e70861",
   "metadata": {},
   "outputs": [
    {
     "name": "stdout",
     "output_type": "stream",
     "text": [
      "1.rectangle \n",
      "2.circle\n",
      "3.exit\n"
     ]
    },
    {
     "name": "stdin",
     "output_type": "stream",
     "text": [
      "Enter your choioce :  1\n",
      "Enter the length of the rectangle :  5\n",
      "Enter the width of the rectangle :  6\n"
     ]
    },
    {
     "name": "stdout",
     "output_type": "stream",
     "text": [
      "area of rectangle is :  30.0\n",
      "perimetr of rectangle :  22.0\n",
      "1.rectangle \n",
      "2.circle\n",
      "3.exit\n"
     ]
    },
    {
     "name": "stdin",
     "output_type": "stream",
     "text": [
      "Enter your choioce :  2\n",
      "Enter the radious of the circle :  8\n"
     ]
    },
    {
     "name": "stdout",
     "output_type": "stream",
     "text": [
      "area of circle :  201.06192982974676\n",
      "perimeter of circle :  50.26548245743669\n",
      "1.rectangle \n",
      "2.circle\n",
      "3.exit\n"
     ]
    },
    {
     "name": "stdin",
     "output_type": "stream",
     "text": [
      "Enter your choioce :  3\n"
     ]
    },
    {
     "name": "stdout",
     "output_type": "stream",
     "text": [
      "Exiting\n"
     ]
    }
   ],
   "source": [
    "import area\n",
    "while(1):\n",
    "    print(\"1.rectangle \\n2.circle\\n3.exit\")\n",
    "    c=int(input(\"Enter your choioce : \"))\n",
    "    if(c==1):\n",
    "        l=float(input(\"Enter the length of the rectangle : \"))\n",
    "        w=float(input(\"Enter the width of the rectangle : \"))\n",
    "        area.rarea(l,w)\n",
    "        area.rpmtr(l,w)\n",
    "    elif(c==2):\n",
    "        r=float(input(\"Enter the radious of the circle : \"))\n",
    "        area.area(r)\n",
    "        area.pmtr(r)\n",
    "    else:\n",
    "        print(\"Exiting\")\n",
    "        break"
   ]
  },
  {
   "cell_type": "code",
   "execution_count": null,
   "id": "b24e751d-e761-4cab-a61b-a85990ea6a71",
   "metadata": {},
   "outputs": [],
   "source": []
  }
 ],
 "metadata": {
  "kernelspec": {
   "display_name": "Python [conda env:base] *",
   "language": "python",
   "name": "conda-base-py"
  },
  "language_info": {
   "codemirror_mode": {
    "name": "ipython",
    "version": 3
   },
   "file_extension": ".py",
   "mimetype": "text/x-python",
   "name": "python",
   "nbconvert_exporter": "python",
   "pygments_lexer": "ipython3",
   "version": "3.11.9"
  }
 },
 "nbformat": 4,
 "nbformat_minor": 5
}
