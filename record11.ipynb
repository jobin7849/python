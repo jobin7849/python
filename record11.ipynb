{
 "cells": [
  {
   "cell_type": "code",
   "execution_count": 40,
   "id": "bd92a8c3-6161-4884-b179-25ec3404f8e3",
   "metadata": {},
   "outputs": [
    {
     "name": "stdin",
     "output_type": "stream",
     "text": [
      "enter a line of text:  hello world hello world hai\n"
     ]
    },
    {
     "name": "stdout",
     "output_type": "stream",
     "text": [
      "occurence of : hello : 2\n",
      "occurence of : world : 2\n",
      "occurence of : hai : 1\n"
     ]
    }
   ],
   "source": [
    "#1.Count the occurrences of each word in a line of text.\n",
    "sen=input(\"enter a line of text: \").split()\n",
    "value={}\n",
    "for i in sen:\n",
    "    if i in value:\n",
    "        value[i]+=1\n",
    "    else:\n",
    "        value[i]=1\n",
    "for a in value:\n",
    "    print(\"occurence of :\",a,\":\",value[a])"
   ]
  },
  {
   "cell_type": "code",
   "execution_count": 1,
   "id": "dc9c8ad0-b99e-41e5-9821-ccb79769db1c",
   "metadata": {},
   "outputs": [
    {
     "name": "stdin",
     "output_type": "stream",
     "text": [
      "enter the list of intigers :  10,100,110\n"
     ]
    },
    {
     "name": "stdout",
     "output_type": "stream",
     "text": [
      "new list is :  [10, 100, 'over']\n"
     ]
    }
   ],
   "source": [
    "#2.Prompt the user for a list of integers. For all values greater than 100, store ‘over’ instead.\n",
    "list=list(map(int,input(\"enter the list of intigers : \").split(\",\")))\n",
    "c=[]\n",
    "for i in list:\n",
    "    if i>100:\n",
    "        c.append(\"over\")\n",
    "    else:\n",
    "        c.append(i)\n",
    "print(\"new list is : \",c)"
   ]
  },
  {
   "cell_type": "code",
   "execution_count": 34,
   "id": "0c982f87-1871-49ef-9fb4-40949e594576",
   "metadata": {},
   "outputs": [
    {
     "name": "stdin",
     "output_type": "stream",
     "text": [
      "Enter the name:  malayalam kannada\n"
     ]
    },
    {
     "name": "stdout",
     "output_type": "stream",
     "text": [
      "Total occurences of 'a' : 7\n"
     ]
    }
   ],
   "source": [
    "#3.Store a list of first names. Count the occurrences of ‘a’ within the list\n",
    "name=input(\"Enter the name: \").split()\n",
    "s=sum(n.count('a')+n.count('A')for n in name)\n",
    "print(\"Total occurences of 'a' :\",s)"
   ]
  },
  {
   "cell_type": "code",
   "execution_count": 26,
   "id": "0549664d-a088-4ff1-a03e-614c7569c418",
   "metadata": {},
   "outputs": [
    {
     "name": "stdin",
     "output_type": "stream",
     "text": [
      "enter a value:  45\n",
      "enter a value:  30\n"
     ]
    },
    {
     "name": "stdout",
     "output_type": "stream",
     "text": [
      "gcd =  15\n"
     ]
    }
   ],
   "source": [
    "j=int(input(\"enter a value: \"))\n",
    "k=int(input(\"enter a value: \"))\n",
    "while k!=0:\n",
    "    l=j%k\n",
    "    j=k\n",
    "    k=l\n",
    "print(\"gcd = \",j )"
   ]
  },
  {
   "cell_type": "code",
   "execution_count": 8,
   "id": "0bdbb035-9a40-4b6e-8357-9081a75c7ee6",
   "metadata": {},
   "outputs": [
    {
     "name": "stdin",
     "output_type": "stream",
     "text": [
      "enter numbers :  1,2,3,4,5,6,7\n"
     ]
    },
    {
     "name": "stdout",
     "output_type": "stream",
     "text": [
      "Original list: [1, 2, 3, 4, 5, 6, 7]\n",
      "List after removing even numbers: [1, 3, 5, 7]\n"
     ]
    }
   ],
   "source": [
    "#5.From a list of integers, create a list removing even numbers.\n",
    "numbers =list(map(int,input(\"enter numbers : \").split(\",\")))\n",
    "odd_numbers = [num for num in numbers if num % 2 != 0]\n",
    "print(\"Original list:\", numbers)\n",
    "print(\"List after removing even numbers:\", odd_numbers)"
   ]
  },
  {
   "cell_type": "code",
   "execution_count": 42,
   "id": "53a2c80e-96ff-4806-8173-ce704d5503d1",
   "metadata": {},
   "outputs": [
    {
     "name": "stdin",
     "output_type": "stream",
     "text": [
      "Enter a value :  5\n"
     ]
    },
    {
     "name": "stdout",
     "output_type": "stream",
     "text": [
      "Factorial of  5 :  120\n"
     ]
    }
   ],
   "source": [
    "#6. Program to find the factorial of a number\n",
    "num=int(input(\"Enter a value : \"))\n",
    "a=num\n",
    "fact=1\n",
    "while(num>0):\n",
    "        fact=fact*num\n",
    "        num=num-1\n",
    "print(\"Factorial of \",a,\": \",fact)"
   ]
  },
  {
   "cell_type": "code",
   "execution_count": 39,
   "id": "56044fc4-da83-4a11-bde1-3768988e94d7",
   "metadata": {},
   "outputs": [
    {
     "name": "stdin",
     "output_type": "stream",
     "text": [
      "Enter a value :  8\n"
     ]
    },
    {
     "name": "stdout",
     "output_type": "stream",
     "text": [
      "Fibonacci series:  0 1 1 2 3 5 8 13 "
     ]
    }
   ],
   "source": [
    "#7. Generate Fibonacci series of N terms\n",
    "r=int(input(\"Enter a value : \"))\n",
    "x=0\n",
    "y=1\n",
    "print(\"Fibonacci series: \",end=\" \")\n",
    "for i in range(r):\n",
    "    print(x,end=\" \")\n",
    "    z=x+y\n",
    "    x=y\n",
    "    y=z"
   ]
  },
  {
   "cell_type": "code",
   "execution_count": 23,
   "id": "53f1a64d-5d4b-465b-8edd-8e657b5b7703",
   "metadata": {},
   "outputs": [
    {
     "name": "stdin",
     "output_type": "stream",
     "text": [
      "Enter numbers :  1,2,3,4,5,6,7,8,9\n"
     ]
    },
    {
     "name": "stdout",
     "output_type": "stream",
     "text": [
      "sum :  45\n"
     ]
    }
   ],
   "source": [
    "#8. Find the sum of all items in a list\n",
    "numbers=list(map(int,input(\"Enter numbers : \").split(\",\")))\n",
    "total=0\n",
    "for i in numbers:\n",
    "    total+=i\n",
    "print(\"sum : \",total)"
   ]
  },
  {
   "cell_type": "code",
   "execution_count": 24,
   "id": "970507c5-3cb0-4c01-b8da-646aa8246c95",
   "metadata": {},
   "outputs": [
    {
     "name": "stdin",
     "output_type": "stream",
     "text": [
      "Enter starting point of range :  1000\n",
      "Enter starting point of range :  9999\n"
     ]
    },
    {
     "name": "stdout",
     "output_type": "stream",
     "text": [
      "4-digit perfect squares with all even digits:\n",
      "4624\n",
      "6084\n",
      "6400\n",
      "8464\n"
     ]
    }
   ],
   "source": [
    "#9. Generate a list of four digit numbers in a given range with all their digits even and the number is a perfect square.\n",
    "import math\n",
    "start=int(input(\"Enter starting point of range : \"))\n",
    "end=int(input(\"Enter starting point of range : \"))\n",
    "found=False\n",
    "print(\"4-digit perfect squares with all even digits:\")\n",
    "for i in range(start,end+1):\n",
    "    root=int(math.sqrt(i))\n",
    "    if root*root==i:\n",
    "        for d in str(i):\n",
    "            if int(d)%2!=0:\n",
    "                break\n",
    "        else:\n",
    "            print(i)\n",
    "            found=True\n",
    "if not found:\n",
    "    print(\"No numbers found in this range\")"
   ]
  },
  {
   "cell_type": "code",
   "execution_count": 27,
   "id": "bc75b4c2-fba6-4b69-8267-fb8cb8ac0e1a",
   "metadata": {},
   "outputs": [
    {
     "name": "stdin",
     "output_type": "stream",
     "text": [
      "Enter a string :  hello\n"
     ]
    },
    {
     "name": "stdout",
     "output_type": "stream",
     "text": [
      "frequency of  h:1\n",
      "frequency of  e:1\n",
      "frequency of  l:2\n",
      "frequency of  o:1\n"
     ]
    }
   ],
   "source": [
    "#10. Count the number of characters (character frequency) in a string.\n",
    "s=input(\"Enter a string : \")\n",
    "str_count={}\n",
    "for char in s:\n",
    "    if char in str_count:\n",
    "        str_count[char]+=1\n",
    "    else:\n",
    "        str_count[char]=1\n",
    "for key,value in str_count.items():\n",
    "    print(\"frequency of \",f\"{key}:{value}\")"
   ]
  },
  {
   "cell_type": "code",
   "execution_count": 30,
   "id": "4b8f293e-4979-40c8-8f3d-7c351ed7941a",
   "metadata": {},
   "outputs": [
    {
     "name": "stdin",
     "output_type": "stream",
     "text": [
      "Enter the number of steps 5\n"
     ]
    },
    {
     "name": "stdout",
     "output_type": "stream",
     "text": [
      "1 \n",
      "2 4 \n",
      "3 6 9 \n",
      "4 8 12 16 \n",
      "5 10 15 20 25 \n"
     ]
    }
   ],
   "source": [
    "#11. Display the given pyramid with step number accepted from user.\n",
    "num1=int(input(\"Enter the number of steps\"))\n",
    "for i in range(1,num1+1):\n",
    "    for j in range(1,i+1):\n",
    "        print(i*j,end=\" \")\n",
    "    print()"
   ]
  },
  {
   "cell_type": "code",
   "execution_count": null,
   "id": "c018ec56-f2ef-4dd2-b580-8c8f21bed0b0",
   "metadata": {},
   "outputs": [],
   "source": []
  }
 ],
 "metadata": {
  "kernelspec": {
   "display_name": "Python [conda env:base] *",
   "language": "python",
   "name": "conda-base-py"
  },
  "language_info": {
   "codemirror_mode": {
    "name": "ipython",
    "version": 3
   },
   "file_extension": ".py",
   "mimetype": "text/x-python",
   "name": "python",
   "nbconvert_exporter": "python",
   "pygments_lexer": "ipython3",
   "version": "3.11.9"
  }
 },
 "nbformat": 4,
 "nbformat_minor": 5
}
