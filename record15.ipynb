{
 "cells": [
  {
   "cell_type": "code",
   "execution_count": 2,
   "id": "c0f6f649-021e-4b4b-b765-a2710b3cd059",
   "metadata": {},
   "outputs": [
    {
     "name": "stdin",
     "output_type": "stream",
     "text": [
      "enter the length of rect 1: 6\n",
      "enter the breadth of rect 1: 5\n",
      "enter the length of rect 2: 5\n",
      "enter the breadth of rect 2: 6\n"
     ]
    },
    {
     "name": "stdout",
     "output_type": "stream",
     "text": [
      "rectangles are euqal\n",
      "peri of rect 1: 22.0\n",
      "peri of rect 2: 22.0\n"
     ]
    }
   ],
   "source": [
    "#Create Rectangle class with attributes length and breadth and\n",
    "#methods to find area and perimeter. Compare two Rectangle\n",
    "#objects by their area.\n",
    "class rectangle:\n",
    "    def get(self,length,breadth):\n",
    "        self.length=length\n",
    "        self.breadth=breadth\n",
    "    \n",
    "\n",
    "    def area(self):\n",
    "        return self.length*self.breadth\n",
    "\n",
    "    def perimeter(self):\n",
    "        return 2*(self.length+self.breadth)\n",
    "#object\n",
    "r1=rectangle()\n",
    "r2=rectangle()\n",
    "\n",
    "len1=float(input(\"enter the length of rect 1:\"))\n",
    "brd1=float(input(\"enter the breadth of rect 1:\"))\n",
    "len2=float(input(\"enter the length of rect 2:\"))\n",
    "brd2=float(input(\"enter the breadth of rect 2:\"))\n",
    "\n",
    "r1.get(len1,brd1)\n",
    "r2.get(len2,brd2)\n",
    "\n",
    "a=r1.area()\n",
    "a2=r2.area()\n",
    "p=r1.perimeter()\n",
    "p2=r2.perimeter()\n",
    "\n",
    "if(a>a2):\n",
    "    print(\"rectangle 1 is greater\")\n",
    "    print(\"perimeter of rect 1 is:\",p)\n",
    "elif(a<a2):\n",
    "    print(\"rectangle 2 is greater\")\n",
    "    print(\"perimeter of rect 2:\",p2)\n",
    "else:\n",
    "    print(\"rectangles are euqal\")\n",
    "    print(\"peri of rect 1:\",p)\n",
    "    print(\"peri of rect 2:\",p2)\n",
    "\n",
    "#object\n",
    "#area=rectangle1\n",
    "#length=float(input(\"enter the length:\"))\n",
    "#breadth=float(input(\"enter the breadth:\"))\n",
    "#area.display()"
   ]
  },
  {
   "cell_type": "code",
   "execution_count": null,
   "id": "ea3b36f2-85f0-40fa-9a6d-73edc1693603",
   "metadata": {},
   "outputs": [],
   "source": []
  }
 ],
 "metadata": {
  "kernelspec": {
   "display_name": "Python [conda env:base] *",
   "language": "python",
   "name": "conda-base-py"
  },
  "language_info": {
   "codemirror_mode": {
    "name": "ipython",
    "version": 3
   },
   "file_extension": ".py",
   "mimetype": "text/x-python",
   "name": "python",
   "nbconvert_exporter": "python",
   "pygments_lexer": "ipython3",
   "version": "3.11.9"
  }
 },
 "nbformat": 4,
 "nbformat_minor": 5
}
