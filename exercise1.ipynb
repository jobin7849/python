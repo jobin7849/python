{
 "cells": [
  {
   "cell_type": "code",
   "execution_count": 8,
   "id": "2cdedc51-cab7-4e2b-927a-7a2632c0bc74",
   "metadata": {},
   "outputs": [
    {
     "name": "stdout",
     "output_type": "stream",
     "text": [
      "4.0\n"
     ]
    }
   ],
   "source": [
    "#import math\n",
    "number = 16\n",
    "result =math.sqrt(number)\n",
    "print(result)"
   ]
  },
  {
   "cell_type": "code",
   "execution_count": 9,
   "id": "824acf09-6f34-496e-9b4e-dc4748e52840",
   "metadata": {},
   "outputs": [
    {
     "ename": "SyntaxError",
     "evalue": "invalid syntax (3671729416.py, line 3)",
     "output_type": "error",
     "traceback": [
      "\u001b[0;36m  Cell \u001b[0;32mIn[9], line 3\u001b[0;36m\u001b[0m\n\u001b[0;31m    result =.sqrt(number)\u001b[0m\n\u001b[0m            ^\u001b[0m\n\u001b[0;31mSyntaxError\u001b[0m\u001b[0;31m:\u001b[0m invalid syntax\n"
     ]
    }
   ],
   

  },
  {
   "cell_type": "code",
   "execution_count": 10,
   "id": "18f90052-08b3-4cf0-aca5-e3d182c3ec6b",
   "metadata": {},
   "outputs": [
    {
     "name": "stdout",
     "output_type": "stream",
     "text": [
      "5\n",
      "4\n"
     ]
    }
   ],
   "source": [
    "import math\n",
    "num = 4.7\n",
    "print(math.ceil(num))\n",
    "print(math.floor(num))"
   ]
  },
  {
   "cell_type": "code",
   "execution_count": 11,
   "id": "9a63fe73-b433-4d2d-a671-fe2dacaa231f",
   "metadata": {},
   "outputs": [
    {
     "name": "stdin",
     "output_type": "stream",
     "text": [
      "Enter the side length of the square :  5\n"
     ]
    },
    {
     "name": "stdout",
     "output_type": "stream",
     "text": [
      "the area of square : 25.0\n"
     ]
    }
   ],
   "source": [
    "#write a program to compute the area of a square\n",
    "side = float(input(\"Enter the side length of the square : \"))\n",
    "area=side*side\n",
    "print (\"the area of square :\",area)"
   ]
  },
  {
   "cell_type": "code",
   "execution_count": 15,
   "id": "fa8de3d7-d9a9-41d2-b6fe-f8d831d5faf9",
   "metadata": {},
   "outputs": [
    {
     "name": "stdin",
     "output_type": "stream",
     "text": [
      "Enter the base of the triangle :  10\n",
      "enter the height of the triangle :  5\n"
     ]
    },
    {
     "name": "stdout",
     "output_type": "stream",
     "text": [
      "the area of right angle triangle is  25.0\n"
     ]
    }
   ],
   "source": [
    "#write a program to compute the area of right angled triangle\n",
    "base= float(input(\"Enter the base of the triangle : \"))\n",
    "height = float(input(\"enter the height of the triangle : \"))\n",
    "area =1/2*base*height\n",
    "print (\"the area of right angle triangle is \",area)"
   ]
  },
  {
   "cell_type": "code",
   "execution_count": null,
   "id": "b84c7716-4a80-4cac-b036-4f7cd28d81ee",
   "metadata": {},
   "outputs": [],
   "source": []
  },
  {
   "cell_type": "code",
   "execution_count": null,
   "id": "46a2a56d-bfd9-4653-8ce5-c2d98502fae7",
   "metadata": {},
   "outputs": [],
   "source": []
  }
 ],
 "metadata": {
  "kernelspec": {
   "display_name": "Python 3 (ipykernel)",
   "language": "python",
   "name": "python3"
  },
  "language_info": {
   "codemirror_mode": {
    "name": "ipython",
    "version": 3
   },
   "file_extension": ".py",
   "mimetype": "text/x-python",
   "name": "python",
   "nbconvert_exporter": "python",
   "pygments_lexer": "ipython3",
   "version": "3.11.9"
  }
 },
 "nbformat": 4,
 "nbformat_minor": 5
}
