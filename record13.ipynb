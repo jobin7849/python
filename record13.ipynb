{
 "cells": [
  {
   "cell_type": "code",
   "execution_count": 2,
   "id": "064f2b0c-fb40-4bac-848a-e45965135bef",
   "metadata": {},
   "outputs": [
    {
     "name": "stdin",
     "output_type": "stream",
     "text": [
      "Enter words :  jhdcgh,jfitkfdt,qwrutrui\n"
     ]
    },
    {
     "name": "stdout",
     "output_type": "stream",
     "text": [
      "the length of longest word is :  8\n"
     ]
    }
   ],
   "source": [
    "#1. Accept a list of words and return length of longest word.\n",
    "word=input(\"Enter words : \").split(',')\n",
    "def length(word):\n",
    "    return max(len(i.strip())for i in word)\n",
    "len1=length(word)\n",
    "print(\"the length of longest word is : \",len1)    "
   ]
  },
  {
   "cell_type": "code",
   "execution_count": 5,
   "id": "e2a006a4-108c-4956-95e1-4a1f33571525",
   "metadata": {},
   "outputs": [
    {
     "name": "stdin",
     "output_type": "stream",
     "text": [
      "Enter number of rows for pattern:  5\n"
     ]
    },
    {
     "name": "stdout",
     "output_type": "stream",
     "text": [
      "* \n",
      "* * \n",
      "* * * \n",
      "* * * * \n",
      "* * * * * \n",
      "* * * * \n",
      "* * * \n",
      "* * \n",
      "* \n"
     ]
    }
   ],
   "source": [
    "#2. Construct following pattern using nested loop \n",
    "num=int(input(\"Enter number of rows for pattern: \"))\n",
    "def star(n):\n",
    "    for i in range(1,num+1):\n",
    "        for j in range(i):\n",
    "            print(\"*\",end=\" \")\n",
    "        print()\n",
    "    for i in range(num-1,0,-1):\n",
    "        for j in range(i):\n",
    "            print(\"*\",end=\" \")\n",
    "        print()\n",
    "star(num)"
   ]
  },
  {
   "cell_type": "code",
   "execution_count": 6,
   "id": "7d7b8cb7-dab2-490a-8984-07c3cf269cac",
   "metadata": {},
   "outputs": [
    {
     "name": "stdin",
     "output_type": "stream",
     "text": [
      "Enter any values :  6\n"
     ]
    },
    {
     "name": "stdout",
     "output_type": "stream",
     "text": [
      "Factor of  6 are  [1, 2, 3, 6]\n"
     ]
    }
   ],
   "source": [
    "#3. Generate all factors of a number.\n",
    "n=int(input(\"Enter any values : \"))\n",
    "def factor(n):\n",
    "    return[i for i in range(1,n+1) if n%i==0]\n",
    "print(\"Factor of \",n,\"are \",factor(n))"
   ]
  },
  {
   "cell_type": "code",
   "execution_count": 9,
   "id": "a0035457-597f-49ab-801a-71afcba64409",
   "metadata": {},
   "outputs": [
    {
     "name": "stdin",
     "output_type": "stream",
     "text": [
      "Enter the side of the square :  4\n"
     ]
    },
    {
     "name": "stdout",
     "output_type": "stream",
     "text": [
      "Area of a square is : 16.0\n"
     ]
    },
    {
     "name": "stdin",
     "output_type": "stream",
     "text": [
      "Enter the length of the rectangle :  5\n",
      "Enter the width of the rectangle  :  4\n"
     ]
    },
    {
     "name": "stdout",
     "output_type": "stream",
     "text": [
      "Area of a rectangle is  20.0\n"
     ]
    },
    {
     "name": "stdin",
     "output_type": "stream",
     "text": [
      "Enter the base of the triangle :  8\n",
      "Enter the height of the triangle  :  12\n"
     ]
    },
    {
     "name": "stdout",
     "output_type": "stream",
     "text": [
      "Area of a triangle is  48.0\n"
     ]
    }
   ],
   "source": [
    "#4. Write lambda functions to find area of square, rectangle and triangle.\n",
    "sqr=lambda s:s*s\n",
    "rectangle=lambda l,w:l*w\n",
    "triangle=lambda b,h:0.5*b*h\n",
    "\n",
    "s=float(input(\"Enter the side of the square : \"))\n",
    "print(\"Area of a square is :\",sqr(s))\n",
    "\n",
    "l=float(input(\"Enter the length of the rectangle : \"))\n",
    "w=float(input(\"Enter the width of the rectangle  : \"))\n",
    "print(\"Area of a rectangle is \",rectangle (l,w))\n",
    "\n",
    "b=float(input(\"Enter the base of the triangle : \"))\n",
    "h=float(input(\"Enter the height of the triangle  : \"))\n",
    "print(\"Area of a triangle is \",triangle (b,h))"
   ]
  },
  {
   "cell_type": "code",
   "execution_count": null,
   "id": "be85ab9d-c87a-4a1f-aaa0-0bc76f674818",
   "metadata": {},
   "outputs": [],
   "source": []
  }
 ],
 "metadata": {
  "kernelspec": {
   "display_name": "Python [conda env:base] *",
   "language": "python",
   "name": "conda-base-py"
  },
  "language_info": {
   "codemirror_mode": {
    "name": "ipython",
    "version": 3
   },
   "file_extension": ".py",
   "mimetype": "text/x-python",
   "name": "python",
   "nbconvert_exporter": "python",
   "pygments_lexer": "ipython3",
   "version": "3.11.9"
  }
 },
 "nbformat": 4,
 "nbformat_minor": 5
}
