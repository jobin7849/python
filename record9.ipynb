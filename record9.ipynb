{
 "cells": [
  {
   "cell_type": "code",
   "execution_count": 5,
   "id": "6f2b1a90-e739-4be3-99f5-658ca79e955d",
   "metadata": {},
   "outputs": [
    {
     "name": "stdin",
     "output_type": "stream",
     "text": [
      "Roll:  1\n",
      "Name:  jobin\n",
      "Roll:  2\n",
      "Name:  nihad\n",
      "Roll:  3\n",
      "Name:  sreehari\n",
      "Roll:  4\n",
      "Name:  drisya\n",
      "Roll:  5\n",
      "Name:  karuna\n"
     ]
    },
    {
     "name": "stdout",
     "output_type": "stream",
     "text": [
      "Ascending: {1: 'jobin', 2: 'nihad', 3: 'sreehari', 4: 'drisya', 5: 'karuna'}\n",
      "Descending: {5: 'karuna', 4: 'drisya', 3: 'sreehari', 2: 'nihad', 1: 'jobin'}\n"
     ]
    }
   ],
   "source": [
    "#Write a Python program to accept 5 students' names and roll numbers, and map these into a dictionary(roll as key, name as value). Sort the dictionary in ascending and descending order of their roll number [use sorted()] \n",
    "d={}\n",
    "r1=int(input(\"Roll: \"));n1=input(\"Name: \");d[r1]=n1\n",
    "r2=int(input(\"Roll: \"));n2=input(\"Name: \");d[r2]=n2\n",
    "r3=int(input(\"Roll: \"));n3=input(\"Name: \");d[r3]=n3\n",
    "r4=int(input(\"Roll: \"));n4=input(\"Name: \");d[r4]=n4\n",
    "r5=int(input(\"Roll: \"));n5=input(\"Name: \");d[r5]=n5\n",
    "print(\"Ascending:\",dict(sorted(d.items())))\n",
    "print(\"Descending:\",dict(sorted(d.items(),reverse=True)))"
   ]
  },
  {
   "cell_type": "code",
   "execution_count": 6,
   "id": "f214a006-c7e2-4c8f-8e9c-1bd2f32eccb7",
   "metadata": {},
   "outputs": [
    {
     "name": "stdin",
     "output_type": "stream",
     "text": [
      "Enter 3 rolls for dic1:  1,2,3\n",
      "Enter 3 names for dic1:  jobin,nihad,sreehari\n",
      "Enter 2 rolls for dic2:  4,5\n",
      "Enter 2 names for dic2:  karuna,dhrisya\n"
     ]
    },
    {
     "name": "stdout",
     "output_type": "stream",
     "text": [
      "Dictionary 1: {1: 'jobin', 2: 'nihad', 3: 'sreehari'}\n",
      "Dictionary 2: {4: 'karuna', 5: 'dhrisya'}\n",
      "Merged: {1: 'jobin', 2: 'nihad', 3: 'sreehari', 4: 'karuna', 5: 'dhrisya'}\n"
     ]
    }
   ],
   "source": [
    "#Write a Python program to accept 2 dictionaries (dic1 contains 3 students' names and roll numbers, and dic2 contains 2 students' names and roll numbers). Merge 2 dictionaries and display it [use update()]\n",
    "r1=list(map(int,input(\"Enter 3 rolls for dic1: \").split(',')))\n",
    "n1=input(\"Enter 3 names for dic1: \").split(',')\n",
    "dic1=dict(zip(r1,n1))\n",
    "r2=list(map(int,input(\"Enter 2 rolls for dic2: \").split(',')))\n",
    "n2=input(\"Enter 2 names for dic2: \").split(',')\n",
    "dic2=dict(zip(r2,n2))\n",
    "print(\"Dictionary 1:\",dic1)\n",
    "print(\"Dictionary 2:\",dic2)\n",
    "dic1.update(dic2)\n",
    "print(\"Merged:\",dic1)"
   ]
  },
  {
   "cell_type": "code",
   "execution_count": null,
   "id": "979676cd-5f46-433c-83e9-0585c1537429",
   "metadata": {},
   "outputs": [],
   "source": []
  }
 ],
 "metadata": {
  "kernelspec": {
   "display_name": "Python [conda env:base] *",
   "language": "python",
   "name": "conda-base-py"
  },
  "language_info": {
   "codemirror_mode": {
    "name": "ipython",
    "version": 3
   },
   "file_extension": ".py",
   "mimetype": "text/x-python",
   "name": "python",
   "nbconvert_exporter": "python",
   "pygments_lexer": "ipython3",
   "version": "3.11.9"
  }
 },
 "nbformat": 4,
 "nbformat_minor": 5
}
