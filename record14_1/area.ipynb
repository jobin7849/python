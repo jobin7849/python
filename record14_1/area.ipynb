{
 "cells": [
  {
   "cell_type": "code",
   "execution_count": 1,
   "id": "97857730-8860-4823-96bc-abe105d91bfd",
   "metadata": {},
   "outputs": [],
   "source": [
    "from math import pi\n",
    "def rarea(l,w):\n",
    "    print(\"area of rectangle is : \",l*w)\n",
    "def rpmtr(l,w):\n",
    "    print(\"perimetr of rectangle : \",2*(l+w))\n",
    "def area(r):\n",
    "    print(\"area of circle : \",pi*r**2)\n",
    "def pmtr(r):\n",
    "    print(\"perimeter of circle : \",2*pi*r)"
   ]
  },
  {
   "cell_type": "code",
   "execution_count": null,
   "id": "db8d8319-1a42-4281-a367-2ac8b6feb5eb",
   "metadata": {},
   "outputs": [],
   "source": []
  }
 ],
 "metadata": {
  "kernelspec": {
   "display_name": "Python [conda env:base] *",
   "language": "python",
   "name": "conda-base-py"
  },
  "language_info": {
   "codemirror_mode": {
    "name": "ipython",
    "version": 3
   },
   "file_extension": ".py",
   "mimetype": "text/x-python",
   "name": "python",
   "nbconvert_exporter": "python",
   "pygments_lexer": "ipython3",
   "version": "3.11.9"
  }
 },
 "nbformat": 4,
 "nbformat_minor": 5
}
