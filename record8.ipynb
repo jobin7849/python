{
 "cells": [
  {
   "cell_type": "code",
   "execution_count": 3,
   "id": "c8ad6a96-09c7-4bea-abcd-13ce405da601",
   "metadata": {},
   "outputs": [
    {
     "name": "stdin",
     "output_type": "stream",
     "text": [
      "Enter colors for set1:  red blue green\n",
      "Enter colors for set2:  white yellow red\n"
     ]
    },
    {
     "name": "stdout",
     "output_type": "stream",
     "text": [
      "Set1: {'blue', 'green', 'red'}\n",
      "Set2: {'yellow', 'red', 'white'}\n",
      "Colors in set1 not in set2: {'blue', 'green'}\n"
     ]
    }
   ],
   "source": [
    "#Write a python program to printout all colors from color set 1 not contained in color set2\n",
    "s1=set(input(\"Enter colors for set1: \").split())\n",
    "s2=set(input(\"Enter colors for set2: \").split())\n",
    "print(\"Set1:\",s1)\n",
    "print(\"Set2:\",s2)\n",
    "print(\"Colors in set1 not in set2:\",s1 -s2)"
   ]
  },
  {
   "cell_type": "code",
   "execution_count": 4,
   "id": "d2235271-a6c6-43f3-9ab2-67a4027205cd",
   "metadata": {},
   "outputs": [
    {
     "name": "stdin",
     "output_type": "stream",
     "text": [
      "Enter colors for set1:  red blue green\n",
      "Enter colors for set2:  pink grey black\n"
     ]
    },
    {
     "name": "stdout",
     "output_type": "stream",
     "text": [
      "Set1: {'blue', 'green', 'red'}\n",
      "Set2: {'pink', 'black', 'grey'}\n",
      "All colors from both sets: {'blue', 'green', 'grey', 'pink', 'black', 'red'}\n"
     ]
    }
   ],
   "source": [
    "#Write a python program to printout all colors from color set 1 and color set2\n",
    "s1=set(input(\"Enter colors for set1: \").split())\n",
    "s2=set(input(\"Enter colors for set2: \").split())\n",
    "print(\"Set1:\",s1)\n",
    "print(\"Set2:\",s2)\n",
    "print(\"All colors from both sets:\",s1|s2)"
   ]
  },
  {
   "cell_type": "code",
   "execution_count": null,
   "id": "1f8ef465-81db-464f-8da0-61e8c40dbddf",
   "metadata": {},
   "outputs": [],
   "source": []
  }
 ],
 "metadata": {
  "kernelspec": {
   "display_name": "Python [conda env:base] *",
   "language": "python",
   "name": "conda-base-py"
  },
  "language_info": {
   "codemirror_mode": {
    "name": "ipython",
    "version": 3
   },
   "file_extension": ".py",
   "mimetype": "text/x-python",
   "name": "python",
   "nbconvert_exporter": "python",
   "pygments_lexer": "ipython3",
   "version": "3.11.9"
  }
 },
 "nbformat": 4,
 "nbformat_minor": 5
}
