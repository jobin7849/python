{
 "cells": [
  {
   "cell_type": "code",
   "execution_count": 4,
   "id": "c6c13a0d-0074-4be3-aafa-c6d9f5e70861",
   "metadata": {},
   "outputs": [
    {
     "name": "stdout",
     "output_type": "stream",
     "text": [
      "1.Rectangle \n",
      "2.Circle\n",
      "3.Cuboid\n",
      "4.Shpere\n",
      "5.Exit\n"
     ]
    },
    {
     "name": "stdin",
     "output_type": "stream",
     "text": [
      "Enter your choioce :  1\n",
      "Enter the length of the rectangle :  6\n",
      "Enter the width of the rectangle :  5\n"
     ]
    },
    {
     "name": "stdout",
     "output_type": "stream",
     "text": [
      "The area of Rectangle :  30.0\n",
      "The perimeter of Rectangle :  22.0\n",
      "1.Rectangle \n",
      "2.Circle\n",
      "3.Cuboid\n",
      "4.Shpere\n",
      "5.Exit\n"
     ]
    },
    {
     "name": "stdin",
     "output_type": "stream",
     "text": [
      "Enter your choioce :  2\n",
      "Enter the radious of the circle :  6\n"
     ]
    },
    {
     "name": "stdout",
     "output_type": "stream",
     "text": [
      "The area of Circle :  113 2\n",
      "The perimeter of Circle :  38 2\n",
      "1.Rectangle \n",
      "2.Circle\n",
      "3.Cuboid\n",
      "4.Shpere\n",
      "5.Exit\n"
     ]
    },
    {
     "name": "stdin",
     "output_type": "stream",
     "text": [
      "Enter your choioce :  3\n",
      "Enter the length of the Cuboid :  6\n",
      "Enter the width of the Cuboid :  5\n",
      "Enter the height of the Cuboid :  4\n"
     ]
    },
    {
     "name": "stdout",
     "output_type": "stream",
     "text": [
      "The area of cuboid :  148.0\n",
      "The perimeter of cuboid :  60.0\n",
      "1.Rectangle \n",
      "2.Circle\n",
      "3.Cuboid\n",
      "4.Shpere\n",
      "5.Exit\n"
     ]
    },
    {
     "name": "stdin",
     "output_type": "stream",
     "text": [
      "Enter your choioce :  4\n",
      "Enter the radious of the Sphere :  6\n"
     ]
    },
    {
     "name": "stdout",
     "output_type": "stream",
     "text": [
      "The srea of Sphere :  452 2\n",
      "The perimeter of Sphere :  38 2\n",
      "1.Rectangle \n",
      "2.Circle\n",
      "3.Cuboid\n",
      "4.Shpere\n",
      "5.Exit\n"
     ]
    },
    {
     "name": "stdin",
     "output_type": "stream",
     "text": [
      "Enter your choioce :  5\n"
     ]
    },
    {
     "name": "stdout",
     "output_type": "stream",
     "text": [
      "Exiting\n"
     ]
    }
   ],
   "source": [
    "from graphycs import rect\n",
    "from graphycs import cir\n",
    "from graphycs.graphycs3d import cuboid\n",
    "from graphycs.graphycs3d import sphere\n",
    "while(1):\n",
    "    print(\"1.Rectangle \\n2.Circle\\n3.Cuboid\\n4.Shpere\\n5.Exit\")\n",
    "    c=int(input(\"Enter your choioce : \"))\n",
    "    if(c==1):\n",
    "        l=float(input(\"Enter the length of the rectangle : \"))\n",
    "        w=float(input(\"Enter the width of the rectangle : \"))\n",
    "        rect.area(l,w)\n",
    "        rect.perimtr(l,w)\n",
    "    elif(c==2):\n",
    "        r=float(input(\"Enter the radious of the circle : \"))\n",
    "        cir.area(r)\n",
    "        cir.perimtr(r)\n",
    "    elif(c==3):\n",
    "        l=float(input(\"Enter the length of the Cuboid : \"))\n",
    "        w=float(input(\"Enter the width of the Cuboid : \"))\n",
    "        h=float(input(\"Enter the height of the Cuboid : \"))\n",
    "        cuboid.area(l,h,w)\n",
    "        cuboid.perimtr(l,h,w)\n",
    "    elif(c==4):\n",
    "        r=float(input(\"Enter the radious of the Sphere : \"))\n",
    "        sphere.area(r)\n",
    "        sphere.perimtr(r)\n",
    "    else:\n",
    "        print(\"Exiting\")\n",
    "        break"
   ]
  },
  {
   "cell_type": "code",
   "execution_count": null,
   "id": "76c23648-159f-4c7d-8ae7-159837992233",
   "metadata": {},
   "outputs": [],
   "source": []
  }
 ],
 "metadata": {
  "kernelspec": {
   "display_name": "Python [conda env:base] *",
   "language": "python",
   "name": "conda-base-py"
  },
  "language_info": {
   "codemirror_mode": {
    "name": "ipython",
    "version": 3
   },
   "file_extension": ".py",
   "mimetype": "text/x-python",
   "name": "python",
   "nbconvert_exporter": "python",
   "pygments_lexer": "ipython3",
   "version": "3.11.9"
  }
 },
 "nbformat": 4,
 "nbformat_minor": 5
}
