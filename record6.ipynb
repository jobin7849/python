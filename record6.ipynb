{
 "cells": [
  {
   "cell_type": "code",
   "execution_count": 1,
   "id": "8507e1ab-957b-44a9-b977-8fefaaa3dc55",
   "metadata": {},
   "outputs": [
    {
     "name": "stdin",
     "output_type": "stream",
     "text": [
      "Enter the values :  4,5,8,7,9,3,2\n"
     ]
    },
    {
     "name": "stdout",
     "output_type": "stream",
     "text": [
      "Thrid element :  8\n",
      "Third element from last :  9\n"
     ]
    }
   ],
   "source": [
    "#Write a Python program to get the 3rd element and 3rd element from last of a tuple.\n",
    "number=tuple(map(int,input(\"Enter the values : \").split(\",\")))\n",
    "a=number[2]\n",
    "b=number[-3]\n",
    "print(\"Thrid element : \",a)\n",
    "print(\"Third element from last : \",b)"
   ]
  },
  {
   "cell_type": "code",
   "execution_count": 2,
   "id": "900f1198-207e-4648-a987-c86e29f4514f",
   "metadata": {},
   "outputs": [
    {
     "name": "stdin",
     "output_type": "stream",
     "text": [
      "Enter the values :  1,2,3,4,5\n"
     ]
    },
    {
     "name": "stdout",
     "output_type": "stream",
     "text": [
      "Tuple is :  (1.0, 2.0, 3.0, 4.0, 5.0)\n",
      "avg value is  3.0\n"
     ]
    }
   ],
   "source": [
    "#Write a python program which accepts a sequence of comma-separated numbers from user and generate a tuple with those numbers and find average of all items in that tuple.\n",
    "num1=tuple(map(float,input(\"Enter the values : \").split(',')))\n",
    "print(\"Tuple is : \",num1)\n",
    "#sum=sum(num1)\n",
    "avg=sum(num1)/len(num1)\n",
    "print(\"avg value is \",avg)"
   ]
  },
  {
   "cell_type": "code",
   "execution_count": null,
   "id": "5ae425e7-89bc-42cf-9be9-a8c95758eb79",
   "metadata": {},
   "outputs": [],
   "source": []
  }
 ],
 "metadata": {
  "kernelspec": {
   "display_name": "Python [conda env:base] *",
   "language": "python",
   "name": "conda-base-py"
  },
  "language_info": {
   "codemirror_mode": {
    "name": "ipython",
    "version": 3
   },
   "file_extension": ".py",
   "mimetype": "text/x-python",
   "name": "python",
   "nbconvert_exporter": "python",
   "pygments_lexer": "ipython3",
   "version": "3.11.9"
  }
 },
 "nbformat": 4,
 "nbformat_minor": 5
}
