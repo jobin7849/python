{
 "cells": [
  {
   "cell_type": "code",
   "execution_count": 22,
   "id": "66cfec0a-9562-44e7-8bfc-b19f7f65a387",
   "metadata": {},
   "outputs": [
    {
     "name": "stdin",
     "output_type": "stream",
     "text": [
      "Enter a string :  python\n"
     ]
    },
    {
     "name": "stdout",
     "output_type": "stream",
     "text": [
      "Exchanged string is  nythop\n"
     ]
    }
   ],
   "source": [
    "#write a python program to change a given string to a new string where the first and last chars have been exchanged.\n",
    "a=input(\"Enter a string : \")\n",
    "b=a[0:1]\n",
    "c=a[1:-1]\n",
    "d=a[-1:]\n",
    "print(\"Exchanged string is \",d+c+b)"
   ]
  },
  {
   "cell_type": "code",
   "execution_count": 25,
   "id": "6af5bb06-9602-4f62-90ac-94e9121d5415",
   "metadata": {},
   "outputs": [
    {
     "name": "stdin",
     "output_type": "stream",
     "text": [
      "Enter a string :  python\n"
     ]
    },
    {
     "name": "stdout",
     "output_type": "stream",
     "text": [
      "New string made by given string is  pyon\n"
     ]
    }
   ],
   "source": [
    "#write a python program to get a string made of the first 2 and the last 2 chars from a given a string\n",
    "a=input(\"Enter a string : \")\n",
    "b=a[0:2]\n",
    "c=a[-2:]\n",
    "print(\"New string made by given string is \",b+c)"
   ]
  },
  {
   "cell_type": "code",
   "execution_count": 27,
   "id": "f24531e0-4681-482d-b7df-dacea121a56e",
   "metadata": {},
   "outputs": [
    {
     "name": "stdin",
     "output_type": "stream",
     "text": [
      "Enter 1st string :  red\n",
      "Enter 2nd string :  blue\n"
     ]
    },
    {
     "name": "stdout",
     "output_type": "stream",
     "text": [
      "swaped string is bld reue\n"
     ]
    }
   ],
   "source": [
    "#write a python program to get a single string from two given strings, seperated by a space and swap the first two charecters of each string\n",
    "a=input(\"Enter 1st string : \")\n",
    "b=input(\"Enter 2nd string : \")\n",
    "c=a[0:2]\n",
    "d=a[2:]\n",
    "e=b[0:2]\n",
    "f=b[2:]\n",
    "print(f\"swaped string is {e+d} {c+f}\")"
   ]
  },
  {
   "cell_type": "code",
   "execution_count": 28,
   "id": "b302596e-da0b-4aa1-ac73-98498ee907c1",
   "metadata": {},
   "outputs": [
    {
     "name": "stdin",
     "output_type": "stream",
     "text": [
      "Enter a string :  malayalam\n"
     ]
    },
    {
     "name": "stdout",
     "output_type": "stream",
     "text": [
      "New string is  malayala$\n"
     ]
    }
   ],
   "source": [
    "#write a python program to get a string from a given string where all occurence of its first char have been changed to $, except the frist char itself.\n",
    "a=input(\"Enter a string : \")\n",
    "s=a[0]+a[1:].replace(a[0],\"$\")\n",
    "print (\"New string is \",s)"
   ]
  },
  {
   "cell_type": "code",
   "execution_count": null,
   "id": "dd570da2-be00-44ac-96c5-895c6e698d76",
   "metadata": {},
   "outputs": [],
   "source": []
  }
 ],
 "metadata": {
  "kernelspec": {
   "display_name": "Python [conda env:base] *",
   "language": "python",
   "name": "conda-base-py"
  },
  "language_info": {
   "codemirror_mode": {
    "name": "ipython",
    "version": 3
   },
   "file_extension": ".py",
   "mimetype": "text/x-python",
   "name": "python",
   "nbconvert_exporter": "python",
   "pygments_lexer": "ipython3",
   "version": "3.11.9"
  }
 },
 "nbformat": 4,
 "nbformat_minor": 5
}
