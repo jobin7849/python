{
 "cells": [
  {
   "cell_type": "code",
   "execution_count": 4,
   "id": "63065e08-8255-48dc-ace4-68975be4e011",
   "metadata": {},
   "outputs": [
    {
     "name": "stdin",
     "output_type": "stream",
     "text": [
      "Enter temperature in Celsius:  37\n"
     ]
    },
    {
     "name": "stdout",
     "output_type": "stream",
     "text": [
      "37.0C is equal to 98.6F\n"
     ]
    }
   ],
   "source": [
    "#python program to convert celsius to fahrenheit \n",
    "celsius = float(input(\"Enter temperature in Celsius: \"))\n",
    "fahrenheit = (celsius * 9/5) + 32\n",
    "print(f\"{celsius}C is equal to {fahrenheit}F\")"
   ]
  },
  {
   "cell_type": "markdown",
   "id": "734da1f1-4fac-4740-8e89-2b005e819602",
   "metadata": {},
   "source": []
  },
  {
   "cell_type": "code",
   "execution_count": 13,
   "id": "dad24f4d-a0cd-49ab-89bf-05132a928f91",
   "metadata": {},
   "outputs": [
    {
     "name": "stdin",
     "output_type": "stream",
     "text": [
      "enter kilometers :  100\n"
     ]
    },
    {
     "name": "stdout",
     "output_type": "stream",
     "text": [
      "100.0 km is equal to 62.14 miles\n"
     ]
    }
   ],
   "source": [
    "#python program to convert kilommeters to miles\n",
    "km = float(input(\"enter kilometers : \"))\n",
    "miles = km*0.621371\n",
    "print(f\"{km} km is equal to {round(miles,2)} miles\")"
   ]
  },
  {
   "cell_type": "code",
   "execution_count": null,
   "id": "a316bba7-f606-4300-9ab8-6cd2db846cdf",
   "metadata": {},
   "outputs": [],
   "source": []
  }
 ],
 "metadata": {
  "kernelspec": {
   "display_name": "Python 3 (ipykernel)",
   "language": "python",
   "name": "python3"
  },
  "language_info": {
   "codemirror_mode": {
    "name": "ipython",
    "version": 3
   },
   "file_extension": ".py",
   "mimetype": "text/x-python",
   "name": "python",
   "nbconvert_exporter": "python",
   "pygments_lexer": "ipython3",
   "version": "3.11.9"
  }
 },
 "nbformat": 4,
 "nbformat_minor": 5
}
