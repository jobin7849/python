{
 "cells": [
  {
   "cell_type": "code",
   "execution_count": 9,
   "id": "52adfc2d-c7d5-4dca-bc48-01c86c15eae5",
   "metadata": {},
   "outputs": [
    {
     "name": "stdin",
     "output_type": "stream",
     "text": [
      "Enter the numbers:  5 7 8 -9 4 -6 2 -7\n"
     ]
    },
    {
     "name": "stdout",
     "output_type": "stream",
     "text": [
      "The positive numbers are [5, 7, 8, 4, 2]\n"
     ]
    }
   ],
   "source": [
    "#1. List comprehensions: \n",
    "#(a) Generate positive list of numbers from a given list of integers \n",
    "number=list(map(int,input(\"Enter the numbers: \").split()))\n",
    "positive=[num for num in number if num>0]\n",
    "print(\"The positive numbers are\",positive)"
   ]
  },
  {
   "cell_type": "code",
   "execution_count": 1,
   "id": "f54d99f1-9989-4ec9-a782-81871db42a41",
   "metadata": {},
   "outputs": [
    {
     "name": "stdin",
     "output_type": "stream",
     "text": [
      "Enter the value of N:  5\n"
     ]
    },
    {
     "name": "stdout",
     "output_type": "stream",
     "text": [
      "Squares of N numbers: [0, 1, 4, 9, 16, 25]\n"
     ]
    }
   ],
   "source": [
    "#(b) Square of N numbers \n",
    "N=int(input(\"Enter the value of N: \"))\n",
    "squares=[x**2 for x in range(N+1)]\n",
    "print(\"Squares of N numbers:\",squares)"
   ]
  },
  {
   "cell_type": "code",
   "execution_count": 11,
   "id": "0be258e6-e213-449f-a1ba-058956ee65c4",
   "metadata": {},
   "outputs": [
    {
     "name": "stdin",
     "output_type": "stream",
     "text": [
      "Enter a word:  jobin\n"
     ]
    },
    {
     "name": "stdout",
     "output_type": "stream",
     "text": [
      "Vowels in word: ['o', 'i']\n"
     ]
    }
   ],
   "source": [
    "#(c) Form a list of vowels selected from a given word \n",
    "word=input(\"Enter a word: \")\n",
    "vowels=[ch for ch in word if ch.lower() in 'aeiou']\n",
    "print(\"Vowels in word:\",vowels)"
   ]
  },
  {
   "cell_type": "code",
   "execution_count": 3,
   "id": "662efacb-0dfd-420c-ba76-88a9fedf6ac9",
   "metadata": {},
   "outputs": [
    {
     "name": "stdin",
     "output_type": "stream",
     "text": [
      "Enter a word:  jobin\n"
     ]
    },
    {
     "name": "stdout",
     "output_type": "stream",
     "text": [
      "Ordinal values = [106, 111, 98, 105, 110]\n"
     ]
    }
   ],
   "source": [
    "#(d) List ordinal value of each element of a word (Hint: use ord() to get ordinal\n",
    "word=input(\"Enter a word: \")\n",
    "ordinals=[ord(char) for char in word]\n",
    "print(\"Ordinal values =\",ordinals)"
   ]
  },
  {
   "cell_type": "code",
   "execution_count": null,
   "id": "779c85bb-5325-45d2-acb2-19598e0e7835",
   "metadata": {},
   "outputs": [],
   "source": []
  }
 ],
 "metadata": {
  "kernelspec": {
   "display_name": "Python [conda env:base] *",
   "language": "python",
   "name": "conda-base-py"
  },
  "language_info": {
   "codemirror_mode": {
    "name": "ipython",
    "version": 3
   },
   "file_extension": ".py",
   "mimetype": "text/x-python",
   "name": "python",
   "nbconvert_exporter": "python",
   "pygments_lexer": "ipython3",
   "version": "3.11.9"
  }
 },
 "nbformat": 4,
 "nbformat_minor": 5
}
