{
 "cells": [
  {
   "cell_type": "code",
   "execution_count": 13,
   "id": "85ee0824-7798-443a-b67b-221c1771361a",
   "metadata": {},
   "outputs": [
    {
     "name": "stdin",
     "output_type": "stream",
     "text": [
      "enter a number :  5\n"
     ]
    },
    {
     "name": "stdout",
     "output_type": "stream",
     "text": [
      "5 + 55 + 555 = 615\n"
     ]
    }
   ],
   "source": [
    "#write a python program that accepts an intiger (n) and computes the value of n+nn+nnn\n",
    "n=int(input(\"enter a number : \"))\n",
    "nn=(n*10)+n\n",
    "nnn=(n*100)+nn\n",
    "value=n+nn+nnn\n",
    "print(n,\"+\",nn,\"+\",nnn,\"=\",value)"
   ]
  },
  {
   "cell_type": "code",
   "execution_count": 15,
   "id": "0ec6d353-eabb-419d-ab18-698761748633",
   "metadata": {},
   "outputs": [
    {
     "name": "stdin",
     "output_type": "stream",
     "text": [
      "enter the radious :  7\n"
     ]
    },
    {
     "name": "stdout",
     "output_type": "stream",
     "text": [
      "area =  153.94\n"
     ]
    }
   ],
   "source": [
    "#input the radious of a circle and compute the area (import math)\n",
    "import math\n",
    "radius= float(input(\"enter the radious : \"))\n",
    "area=math.pi*radius*radius\n",
    "print(\"area = \",round(area,2))"
   ]
  },
  {
   "cell_type": "code",
   "execution_count": null,
   "id": "a4457eb3-f9c2-46b6-9149-3d5a728dd8e2",
   "metadata": {},
   "outputs": [],
   "source": []
  }
 ],
 "metadata": {
  "kernelspec": {
   "display_name": "Python 3 (ipykernel)",
   "language": "python",
   "name": "python3"
  },
  "language_info": {
   "codemirror_mode": {
    "name": "ipython",
    "version": 3
   },
   "file_extension": ".py",
   "mimetype": "text/x-python",
   "name": "python",
   "nbconvert_exporter": "python",
   "pygments_lexer": "ipython3",
   "version": "3.11.9"
  }
 },
 "nbformat": 4,
 "nbformat_minor": 5
}
