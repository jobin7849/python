{
 "cells": [
  {
   "cell_type": "code",
   "execution_count": 1,
   "id": "cf56b3cd-343e-4694-8520-99e29fc6a62a",
   "metadata": {},
   "outputs": [
    {
     "name": "stdin",
     "output_type": "stream",
     "text": [
      "enter the list of colours :  red,blue,green\n"
     ]
    },
    {
     "name": "stdout",
     "output_type": "stream",
     "text": [
      "first color :  red\n",
      "last color :  blue\n"
     ]
    }
   ],
   "source": [
    "#Create a list of colors from comma-separated color names entered by user. Display first and last colors. \n",
    "colour=input(\"enter the list of colours : \")\n",
    "col=colour.split(\",\")\n",
    "print(\"first color : \",col[0])\n",
    "print(\"last color : \",col[1])"
   ]
  },
  {
   "cell_type": "code",
   "execution_count": 3,
   "id": "284d6fcd-ee2a-453a-8d25-7d166bc215cc",
   "metadata": {},
   "outputs": [
    {
     "name": "stdin",
     "output_type": "stream",
     "text": [
      "enter a file name :  python.py\n"
     ]
    },
    {
     "name": "stdout",
     "output_type": "stream",
     "text": [
      "extension :  python.py\n"
     ]
    }
   ],
   "source": [
    "#Write a python program to accept a filename from the user, print extension of that. \n",
    "file=input(\"enter a file name : \")\n",
    "name=file.split(\",\")\n",
    "print(\"extension : \",name[-1])"
   ]
  },
  {
   "cell_type": "code",
   "execution_count": 2,
   "id": "8a7a7c0a-b286-4a0a-943f-aeb6dfe06e16",
   "metadata": {},
   "outputs": [
    {
     "name": "stdin",
     "output_type": "stream",
     "text": [
      "Enter a sequence of numbers :  3,5,6,7\n"
     ]
    },
    {
     "name": "stdout",
     "output_type": "stream",
     "text": [
      "sequence of number :  [3, 5, 6, 7]\n",
      "sum of all items = 21\n"
     ]
    }
   ],
   "source": [
    "#Write a python program which accepts a sequence of comma-separated numbers from user and generate a list with those numbers and find sum of all items in that list.\n",
    "number=input(\"Enter a sequence of numbers : \")\n",
    "sep=list(map(int,number.split(\",\")))\n",
    "print(\"sequence of number : \",sep)\n",
    "print(\"sum of all items =\",sum (sep))"
   ]
  },
  {
   "cell_type": "code",
   "execution_count": null,
   "id": "cee481f9-38b7-4b91-b8ff-f7c520a0ae86",
   "metadata": {},
   "outputs": [],
   "source": []
  }
 ],
 "metadata": {
  "kernelspec": {
   "display_name": "Python [conda env:base] *",
   "language": "python",
   "name": "conda-base-py"
  },
  "language_info": {
   "codemirror_mode": {
    "name": "ipython",
    "version": 3
   },
   "file_extension": ".py",
   "mimetype": "text/x-python",
   "name": "python",
   "nbconvert_exporter": "python",
   "pygments_lexer": "ipython3",
   "version": "3.11.9"
  }
 },
 "nbformat": 4,
 "nbformat_minor": 5
}
